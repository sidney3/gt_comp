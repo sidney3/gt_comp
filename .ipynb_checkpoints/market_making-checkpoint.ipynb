{
 "cells": [
  {
   "cell_type": "code",
   "execution_count": 29,
   "id": "861673dd-6548-41ae-9eba-1b148670fd3b",
   "metadata": {},
   "outputs": [],
   "source": [
    "# single suit\n",
    "\n",
    "# remark: average value per card is 2.5\n",
    "from enum import Enum\n",
    "from dataclasses import dataclass\n",
    "from collections import defaultdict\n",
    "import random\n",
    "import numpy as np\n",
    "import math"
   ]
  },
  {
   "cell_type": "code",
   "execution_count": 2,
   "id": "cff26457-b15f-4be5-bd88-04b9825e5a5a",
   "metadata": {},
   "outputs": [],
   "source": [
    "# poker game\n",
    "\"\"\"\n",
    "5 of a kind                          0      0.00000000\n",
    "Royal straight flush         6,135,750      0.00038785\n",
    "Other straight flush        49,346,350      0.00311923\n",
    "4 of a kind                159,262,448      0.01006714\n",
    "Full House               2,971,045,612      0.18780285\n",
    "Flush                    3,024,664,090      0.19119213\n",
    "Ace high straight          459,821,010      0.02906576\n",
    "Other straights          2,337,332,730      0.14774521\n",
    "3 of a kind                372,408,960      0.02354035\n",
    "2 pairs                  5,560,398,330      0.35147850\n",
    "One pair >= Jacks          271,070,940      0.01713467\n",
    "One pair <= Tens           570,973,200      0.03609180\n",
    "Ace high                    33,230,400      0.00210053\n",
    "King high                    4,334,400      0.00027398\n",
    "\"\"\"\n",
    "\n",
    "class Suit(Enum):\n",
    "    Spade = 1\n",
    "    Club = 2\n",
    "    Heart = 3\n",
    "    Diamond = 4\n",
    "\n",
    "@dataclass\n",
    "class Card:\n",
    "    suit: Suit\n",
    "    value: int\n",
    "\n",
    "class HandType(Enum):\n",
    "    TwoPairOrWorse = 1\n",
    "    Trips = 2\n",
    "    Straight = 3\n",
    "    Flush = 4\n",
    "    FullHouse = 5\n",
    "    Quads = 6\n",
    "    StraightFlush = 7\n",
    "    RoyalFlush = 8\n",
    "\n",
    "def random_card() -> Card:\n",
    "    suit = random.choice(list(Suit))\n",
    "    value = random.randint(1, 13)\n",
    "    return Card(suit, value)"
   ]
  },
  {
   "cell_type": "code",
   "execution_count": 24,
   "id": "588eeabc-e61e-47b3-a626-8588f3b77437",
   "metadata": {},
   "outputs": [],
   "source": [
    "HAND_WORTH = {\n",
    "    HandType.TwoPairOrWorse: 10,\n",
    "    HandType.Trips: 50,\n",
    "    HandType.Straight: 100,\n",
    "    HandType.Flush: 200,\n",
    "    HandType.FullHouse: 300,\n",
    "    HandType.Quads: 500,\n",
    "    HandType.StraightFlush: 1000,\n",
    "    HandType.RoyalFlush: 2000\n",
    "}\n",
    "HAND_SIZE = 10\n",
    "NUM_SAMPLES = 10_000\n",
    "\n"
   ]
  },
  {
   "cell_type": "code",
   "execution_count": 32,
   "id": "b77806d5-694f-43b1-b705-a6ebbf68c181",
   "metadata": {},
   "outputs": [],
   "source": [
    "def sum_suits_fair_value(cards_seen):\n",
    "    cards_remaining = HAND_SIZE - len(cards_seen)\n",
    "    assert cards_remaining >= 0\n",
    "    \n",
    "    pass\n",
    "\n",
    "def make_random_sample(cards_seen):\n",
    "    cards_remaining = HAND_SIZE - len(cards_seen)\n",
    "    cards = [c for c in cards_seen]\n",
    "    for _ in range(cards_remaining):\n",
    "        cards.append(random_card())\n",
    "    return cards\n",
    "    \n",
    "def compute_fair_value(cards_seen, evaluation_function):\n",
    "    samples = [make_random_sample(cards_seen) for _ in range(NUM_SAMPLES)]\n",
    "    prices = [evaluation_function(s) for s in samples]\n",
    "\n",
    "    print(f'var: {math.sqrt(np.var(prices))}, avg: {np.mean(prices)}')\n",
    "    return np.mean(prices)\n",
    "\n",
    "def sum_suits_evaluation(hand):\n",
    "    suit_val = {\n",
    "        Suit.Heart: 1,\n",
    "        Suit.Spade: 2,\n",
    "        Suit.Club: 3,\n",
    "        Suit.Diamond: 4\n",
    "    }\n",
    "    return 10 * sum(suit_val[card.suit] for card in hand)"
   ]
  },
  {
   "cell_type": "code",
   "execution_count": 45,
   "id": "132edde1-d251-426a-91b7-4d1bb016394c",
   "metadata": {},
   "outputs": [
    {
     "name": "stdout",
     "output_type": "stream",
     "text": [
      "var: 11.198776897500906, avg: 294.914\n"
     ]
    },
    {
     "data": {
      "text/plain": [
       "294.914"
      ]
     },
     "execution_count": 45,
     "metadata": {},
     "output_type": "execute_result"
    }
   ],
   "source": [
    "deck_a = []\n",
    "deck_b = []\n",
    "\n",
    "\n",
    "compute_fair_value(deck_a, sum_suits_evaluation)\n",
    "compute_fair_value(deck_b, sum_suits_evaluation)"
   ]
  },
  {
   "cell_type": "code",
   "execution_count": null,
   "id": "5248fcf7-dd11-4d9f-ad8c-39b5f8ff1b58",
   "metadata": {},
   "outputs": [],
   "source": []
  },
  {
   "cell_type": "code",
   "execution_count": null,
   "id": "6a7098c5-b075-4312-ad21-360ca2860406",
   "metadata": {},
   "outputs": [],
   "source": []
  }
 ],
 "metadata": {
  "kernelspec": {
   "display_name": "Python 3 (ipykernel)",
   "language": "python",
   "name": "python3"
  },
  "language_info": {
   "codemirror_mode": {
    "name": "ipython",
    "version": 3
   },
   "file_extension": ".py",
   "mimetype": "text/x-python",
   "name": "python",
   "nbconvert_exporter": "python",
   "pygments_lexer": "ipython3",
   "version": "3.9.18"
  }
 },
 "nbformat": 4,
 "nbformat_minor": 5
}
